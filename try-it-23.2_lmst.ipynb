{
 "cells": [
  {
   "cell_type": "code",
   "execution_count": 138,
   "id": "1b759317-e13b-4dd4-bdf5-bbbfd863750e",
   "metadata": {},
   "outputs": [],
   "source": [
    "import pandas as pd\n",
    "import matplotlib.pyplot as plt\n",
    "import numpy as np\n",
    "from sklearn.model_selection import train_test_split\n",
    "from keras.preprocessing.sequence import TimeseriesGenerator\n",
    "import keras.utils\n",
    "import tensorflow as tf\n",
    "from tensorflow.keras import Input\n",
    "from tensorflow.keras.models import Sequential\n",
    "from tensorflow.keras.layers import Dense, LSTM, SimpleRNN, Flatten, MaxPooling1D, Conv1D, GlobalAveragePooling1D\n",
    "from sklearn.preprocessing import MinMaxScaler\n",
    "from sklearn.metrics import mean_squared_error"
   ]
  },
  {
   "cell_type": "code",
   "execution_count": 139,
   "id": "b4e9f96d-5fe4-4af0-8568-7c16ac172ef4",
   "metadata": {},
   "outputs": [
    {
     "data": {
      "text/html": [
       "<div>\n",
       "<style scoped>\n",
       "    .dataframe tbody tr th:only-of-type {\n",
       "        vertical-align: middle;\n",
       "    }\n",
       "\n",
       "    .dataframe tbody tr th {\n",
       "        vertical-align: top;\n",
       "    }\n",
       "\n",
       "    .dataframe thead th {\n",
       "        text-align: right;\n",
       "    }\n",
       "</style>\n",
       "<table border=\"1\" class=\"dataframe\">\n",
       "  <thead>\n",
       "    <tr style=\"text-align: right;\">\n",
       "      <th></th>\n",
       "      <th>Date (month) / Date (mois)</th>\n",
       "      <th>Year / Année</th>\n",
       "      <th>Month / Mois</th>\n",
       "      <th>Date in fraction of year / Date en fraction de l'année</th>\n",
       "      <th>Monthly mean total sunspot number</th>\n",
       "      <th>Monthly mean / Moyenne mensuelle</th>\n",
       "      <th>Number of observations / Nombre d'observations</th>\n",
       "      <th>Definitive or provisional value / Valeur définitive ou provisoire</th>\n",
       "    </tr>\n",
       "  </thead>\n",
       "  <tbody>\n",
       "    <tr>\n",
       "      <th>3293</th>\n",
       "      <td>2021-10</td>\n",
       "      <td>2021</td>\n",
       "      <td>10</td>\n",
       "      <td>2021.790</td>\n",
       "      <td>37.4</td>\n",
       "      <td>8</td>\n",
       "      <td>1347</td>\n",
       "      <td>1</td>\n",
       "    </tr>\n",
       "    <tr>\n",
       "      <th>3294</th>\n",
       "      <td>2021-12</td>\n",
       "      <td>2021</td>\n",
       "      <td>12</td>\n",
       "      <td>2021.958</td>\n",
       "      <td>67.5</td>\n",
       "      <td>15</td>\n",
       "      <td>845</td>\n",
       "      <td>1</td>\n",
       "    </tr>\n",
       "    <tr>\n",
       "      <th>3295</th>\n",
       "      <td>2022-04</td>\n",
       "      <td>2022</td>\n",
       "      <td>4</td>\n",
       "      <td>2022.286</td>\n",
       "      <td>84.0</td>\n",
       "      <td>15</td>\n",
       "      <td>1376</td>\n",
       "      <td>1</td>\n",
       "    </tr>\n",
       "    <tr>\n",
       "      <th>3296</th>\n",
       "      <td>2022-06</td>\n",
       "      <td>2022</td>\n",
       "      <td>6</td>\n",
       "      <td>2022.453</td>\n",
       "      <td>70.3</td>\n",
       "      <td>13</td>\n",
       "      <td>1403</td>\n",
       "      <td>1</td>\n",
       "    </tr>\n",
       "    <tr>\n",
       "      <th>3297</th>\n",
       "      <td>2022-07</td>\n",
       "      <td>2022</td>\n",
       "      <td>7</td>\n",
       "      <td>2022.538</td>\n",
       "      <td>91.4</td>\n",
       "      <td>12</td>\n",
       "      <td>1487</td>\n",
       "      <td>1</td>\n",
       "    </tr>\n",
       "    <tr>\n",
       "      <th>3298</th>\n",
       "      <td>2022-12</td>\n",
       "      <td>2022</td>\n",
       "      <td>12</td>\n",
       "      <td>2022.958</td>\n",
       "      <td>112.8</td>\n",
       "      <td>16</td>\n",
       "      <td>860</td>\n",
       "      <td>1</td>\n",
       "    </tr>\n",
       "    <tr>\n",
       "      <th>3299</th>\n",
       "      <td>2023-04</td>\n",
       "      <td>2023</td>\n",
       "      <td>4</td>\n",
       "      <td>2023.286</td>\n",
       "      <td>97.6</td>\n",
       "      <td>18</td>\n",
       "      <td>1132</td>\n",
       "      <td>1</td>\n",
       "    </tr>\n",
       "    <tr>\n",
       "      <th>3300</th>\n",
       "      <td>2023-06</td>\n",
       "      <td>2023</td>\n",
       "      <td>6</td>\n",
       "      <td>2023.453</td>\n",
       "      <td>160.5</td>\n",
       "      <td>20</td>\n",
       "      <td>1248</td>\n",
       "      <td>1</td>\n",
       "    </tr>\n",
       "    <tr>\n",
       "      <th>3301</th>\n",
       "      <td>2023-12</td>\n",
       "      <td>2023</td>\n",
       "      <td>12</td>\n",
       "      <td>2023.958</td>\n",
       "      <td>113.5</td>\n",
       "      <td>17</td>\n",
       "      <td>785</td>\n",
       "      <td>1</td>\n",
       "    </tr>\n",
       "    <tr>\n",
       "      <th>3302</th>\n",
       "      <td>2024-01</td>\n",
       "      <td>2024</td>\n",
       "      <td>1</td>\n",
       "      <td>2024.042</td>\n",
       "      <td>123.0</td>\n",
       "      <td>18</td>\n",
       "      <td>783</td>\n",
       "      <td>0</td>\n",
       "    </tr>\n",
       "  </tbody>\n",
       "</table>\n",
       "</div>"
      ],
      "text/plain": [
       "     Date (month) / Date (mois)  Year / Année  Month / Mois  \\\n",
       "3293                    2021-10          2021            10   \n",
       "3294                    2021-12          2021            12   \n",
       "3295                    2022-04          2022             4   \n",
       "3296                    2022-06          2022             6   \n",
       "3297                    2022-07          2022             7   \n",
       "3298                    2022-12          2022            12   \n",
       "3299                    2023-04          2023             4   \n",
       "3300                    2023-06          2023             6   \n",
       "3301                    2023-12          2023            12   \n",
       "3302                    2024-01          2024             1   \n",
       "\n",
       "      Date in fraction of year / Date en fraction de l'année  \\\n",
       "3293                                           2021.790        \n",
       "3294                                           2021.958        \n",
       "3295                                           2022.286        \n",
       "3296                                           2022.453        \n",
       "3297                                           2022.538        \n",
       "3298                                           2022.958        \n",
       "3299                                           2023.286        \n",
       "3300                                           2023.453        \n",
       "3301                                           2023.958        \n",
       "3302                                           2024.042        \n",
       "\n",
       "      Monthly mean total sunspot number  Monthly mean / Moyenne mensuelle  \\\n",
       "3293                               37.4                                 8   \n",
       "3294                               67.5                                15   \n",
       "3295                               84.0                                15   \n",
       "3296                               70.3                                13   \n",
       "3297                               91.4                                12   \n",
       "3298                              112.8                                16   \n",
       "3299                               97.6                                18   \n",
       "3300                              160.5                                20   \n",
       "3301                              113.5                                17   \n",
       "3302                              123.0                                18   \n",
       "\n",
       "      Number of observations / Nombre d'observations  \\\n",
       "3293                                            1347   \n",
       "3294                                             845   \n",
       "3295                                            1376   \n",
       "3296                                            1403   \n",
       "3297                                            1487   \n",
       "3298                                             860   \n",
       "3299                                            1132   \n",
       "3300                                            1248   \n",
       "3301                                             785   \n",
       "3302                                             783   \n",
       "\n",
       "      Definitive or provisional value / Valeur définitive ou provisoire  \n",
       "3293                                                  1                  \n",
       "3294                                                  1                  \n",
       "3295                                                  1                  \n",
       "3296                                                  1                  \n",
       "3297                                                  1                  \n",
       "3298                                                  1                  \n",
       "3299                                                  1                  \n",
       "3300                                                  1                  \n",
       "3301                                                  1                  \n",
       "3302                                                  0                  "
      ]
     },
     "execution_count": 139,
     "metadata": {},
     "output_type": "execute_result"
    }
   ],
   "source": [
    "#import our dataset with sunspot data\n",
    "df = pd.read_csv('sunspots.csv', sep=';')\n",
    "df.tail(10)"
   ]
  },
  {
   "cell_type": "code",
   "execution_count": 140,
   "id": "afdb0619-6594-4cc2-876f-d5a943751f09",
   "metadata": {},
   "outputs": [
    {
     "name": "stdout",
     "output_type": "stream",
     "text": [
      "<class 'pandas.core.frame.DataFrame'>\n",
      "RangeIndex: 3303 entries, 0 to 3302\n",
      "Data columns (total 8 columns):\n",
      " #   Column                                                             Non-Null Count  Dtype  \n",
      "---  ------                                                             --------------  -----  \n",
      " 0   Date (month) / Date (mois)                                         3303 non-null   object \n",
      " 1   Year / Année                                                       3303 non-null   int64  \n",
      " 2   Month / Mois                                                       3303 non-null   int64  \n",
      " 3   Date in fraction of year / Date en fraction de l'année             3303 non-null   float64\n",
      " 4   Monthly mean total sunspot number                                  3303 non-null   float64\n",
      " 5   Monthly mean / Moyenne mensuelle                                   3303 non-null   int64  \n",
      " 6   Number of observations / Nombre d'observations                     3303 non-null   int64  \n",
      " 7   Definitive or provisional value / Valeur définitive ou provisoire  3303 non-null   int64  \n",
      "dtypes: float64(2), int64(5), object(1)\n",
      "memory usage: 206.6+ KB\n"
     ]
    }
   ],
   "source": [
    "df.info()"
   ]
  },
  {
   "cell_type": "code",
   "execution_count": 141,
   "id": "b4fde445-4048-4df2-8f65-d12867e142ec",
   "metadata": {},
   "outputs": [],
   "source": [
    "df.rename(columns={'Date in fraction of year / Date en fraction de l\\'année': 'Year'}, inplace=True)\n",
    "df = df[['Year', 'Monthly mean total sunspot number']]"
   ]
  },
  {
   "cell_type": "code",
   "execution_count": 142,
   "id": "a5569745-3f55-4d18-ab55-aaa4fe37627d",
   "metadata": {},
   "outputs": [],
   "source": [
    "df['Year']=df['Year']-1749.042"
   ]
  },
  {
   "cell_type": "code",
   "execution_count": 143,
   "id": "75103ca9-2963-4af1-93cd-4b66360b80f4",
   "metadata": {},
   "outputs": [
    {
     "data": {
      "image/png": "[encoded data removed]",
      "text/plain": [
       "<Figure size 640x480 with 1 Axes>"
      ]
     },
     "metadata": {},
     "output_type": "display_data"
    }
   ],
   "source": [
    "plt.plot(df['Year'], df['Monthly mean total sunspot number'])\n",
    "plt.show()"
   ]
  },
  {
   "cell_type": "code",
   "execution_count": 151,
   "id": "ba5f493f-95f6-4bc2-ad39-8535726f9c5b",
   "metadata": {},
   "outputs": [],
   "source": [
    "df_arr = df['Monthly mean total sunspot number'].values"
   ]
  },
  {
   "cell_type": "code",
   "execution_count": 152,
   "id": "1ba499c9-0fbd-406f-828d-f463888e99cf",
   "metadata": {},
   "outputs": [
    {
     "data": {
      "text/plain": [
       "(3303,)"
      ]
     },
     "execution_count": 152,
     "metadata": {},
     "output_type": "execute_result"
    }
   ],
   "source": [
    "df_arr.shape"
   ]
  },
  {
   "cell_type": "code",
   "execution_count": 155,
   "id": "2085f3e4-369c-4946-8c59-6279e295ce81",
   "metadata": {},
   "outputs": [],
   "source": [
    "scaler = MinMaxScaler(feature_range=(0, 1))\n",
    "data = scaler.fit_transform(df_arr.reshape(-1, 1))"
   ]
  },
  {
   "cell_type": "code",
   "execution_count": 156,
   "id": "594538b1-317f-4daa-8a14-ba8f06f4b841",
   "metadata": {},
   "outputs": [
    {
     "data": {
      "text/plain": [
       "(3303, 1)"
      ]
     },
     "execution_count": 156,
     "metadata": {},
     "output_type": "execute_result"
    }
   ],
   "source": [
    "data.shape"
   ]
  },
  {
   "cell_type": "code",
   "execution_count": 159,
   "id": "8a309e80-fb57-4e59-a6d4-1e2cc8f9c196",
   "metadata": {},
   "outputs": [],
   "source": [
    "def build_window(data, h, f):\n",
    "    \n",
    "    dataX, dataY = [], []\n",
    "    \n",
    "    for i in range(len(data)-h-f):\n",
    "        dataX.append(data[i:(i+h)])\n",
    "        dataY.append(data[(i+h):(i+h+f)])\n",
    "        \n",
    "    dataX = np.array(dataX)\n",
    "    dataX = np.reshape(dataX, (dataX.shape[0], 1, dataX.shape[1]))\n",
    "    \n",
    "    dataY = np.array(dataY)\n",
    "    \n",
    "    return dataX, dataY"
   ]
  },
  {
   "cell_type": "code",
   "execution_count": 160,
   "id": "ab8331c4-d94a-446f-ac26-7539ba8fff4c",
   "metadata": {},
   "outputs": [
    {
     "data": {
      "text/plain": [
       "((3303, 1), (3255, 1, 12), (3255, 36))"
      ]
     },
     "execution_count": 160,
     "metadata": {},
     "output_type": "execute_result"
    }
   ],
   "source": [
    "history_length = 12\n",
    "forecast_length = 36\n",
    "\n",
    "dataX, dataY = build_window(df_arr, history_length, forecast_length)\n",
    "data.shape, dataX.shape, dataY.shape"
   ]
  },
  {
   "cell_type": "code",
   "execution_count": 161,
   "id": "9ec09d8d-32b5-4ac0-b92a-e0c92ac81ab3",
   "metadata": {},
   "outputs": [
    {
     "data": {
      "text/plain": [
       "((2642, 1, 12), (2642, 36), (613, 1, 12), (613, 36))"
      ]
     },
     "execution_count": 161,
     "metadata": {},
     "output_type": "execute_result"
    }
   ],
   "source": [
    "num_train_samples = int(0.8 * len(data))\n",
    "trainX, trainY = dataX[:num_train_samples,:,:], dataY[:num_train_samples,:]\n",
    "valX,  valY    = dataX[num_train_samples:,:,:], dataY[num_train_samples:,:]\n",
    "trainX.shape, trainY.shape, valX.shape,  valY.shape"
   ]
  },
  {
   "cell_type": "code",
   "execution_count": 176,
   "id": "18b575b3-eb16-4c46-a156-8bc4fe5b1329",
   "metadata": {},
   "outputs": [
    {
     "name": "stderr",
     "output_type": "stream",
     "text": [
      "2024-05-21 21:55:11.517108: I tensorflow/core/common_runtime/executor.cc:1197] [/device:CPU:0] (DEBUG INFO) Executor start aborting (this does not indicate an error and you can ignore this message): INVALID_ARGUMENT: You must feed a value for placeholder tensor 'gradients/split_2_grad/concat/split_2/split_dim' with dtype int32\n",
      "\t [[{{node gradients/split_2_grad/concat/split_2/split_dim}}]]\n",
      "2024-05-21 21:55:11.517517: I tensorflow/core/common_runtime/executor.cc:1197] [/device:CPU:0] (DEBUG INFO) Executor start aborting (this does not indicate an error and you can ignore this message): INVALID_ARGUMENT: You must feed a value for placeholder tensor 'gradients/split_grad/concat/split/split_dim' with dtype int32\n",
      "\t [[{{node gradients/split_grad/concat/split/split_dim}}]]\n",
      "2024-05-21 21:55:11.517976: I tensorflow/core/common_runtime/executor.cc:1197] [/device:CPU:0] (DEBUG INFO) Executor start aborting (this does not indicate an error and you can ignore this message): INVALID_ARGUMENT: You must feed a value for placeholder tensor 'gradients/split_1_grad/concat/split_1/split_dim' with dtype int32\n",
      "\t [[{{node gradients/split_1_grad/concat/split_1/split_dim}}]]\n"
     ]
    }
   ],
   "source": [
    "model_lstm = Sequential()\n",
    "model_lstm.add(LSTM(16, input_shape=(1,12)))\n",
    "model_lstm.add(Dense(24))"
   ]
  },
  {
   "cell_type": "code",
   "execution_count": 177,
   "id": "f81888f6-4feb-499e-8726-94f6b32d36f7",
   "metadata": {},
   "outputs": [
    {
     "name": "stdout",
     "output_type": "stream",
     "text": [
      "Epoch 1/100\n"
     ]
    },
    {
     "ename": "ValueError",
     "evalue": "in user code:\n\n    File \"/Users/stephenthorpe/anaconda3/envs/tf/lib/python3.11/site-packages/keras/engine/training.py\", line 1284, in train_function  *\n        return step_function(self, iterator)\n    File \"/Users/stephenthorpe/anaconda3/envs/tf/lib/python3.11/site-packages/keras/engine/training.py\", line 1268, in step_function  **\n        outputs = model.distribute_strategy.run(run_step, args=(data,))\n    File \"/Users/stephenthorpe/anaconda3/envs/tf/lib/python3.11/site-packages/keras/engine/training.py\", line 1249, in run_step  **\n        outputs = model.train_step(data)\n    File \"/Users/stephenthorpe/anaconda3/envs/tf/lib/python3.11/site-packages/keras/engine/training.py\", line 1050, in train_step\n        y_pred = self(x, training=True)\n    File \"/Users/stephenthorpe/anaconda3/envs/tf/lib/python3.11/site-packages/keras/utils/traceback_utils.py\", line 70, in error_handler\n        raise e.with_traceback(filtered_tb) from None\n    File \"/Users/stephenthorpe/anaconda3/envs/tf/lib/python3.11/site-packages/keras/engine/input_spec.py\", line 298, in assert_input_compatibility\n        raise ValueError(\n\n    ValueError: Input 0 of layer \"sequential_16\" is incompatible with the layer: expected shape=(None, 12, 1), found shape=(None, 1, 12)\n",
     "output_type": "error",
     "traceback": [
      "\u001b[0;31m---------------------------------------------------------------------------\u001b[0m",
      "\u001b[0;31mValueError\u001b[0m                                Traceback (most recent call last)",
      "Cell \u001b[0;32mIn[177], line 3\u001b[0m\n\u001b[1;32m      1\u001b[0m model\u001b[38;5;241m.\u001b[39mcompile(loss\u001b[38;5;241m=\u001b[39m\u001b[38;5;124m'\u001b[39m\u001b[38;5;124mmse\u001b[39m\u001b[38;5;124m'\u001b[39m, metrics\u001b[38;5;241m=\u001b[39m[\u001b[38;5;124m\"\u001b[39m\u001b[38;5;124mmae\u001b[39m\u001b[38;5;124m\"\u001b[39m])\n\u001b[0;32m----> 3\u001b[0m history \u001b[38;5;241m=\u001b[39m model\u001b[38;5;241m.\u001b[39mfit(trainX, trainY, \n\u001b[1;32m      4\u001b[0m                  epochs\u001b[38;5;241m=\u001b[39m\u001b[38;5;241m100\u001b[39m, \n\u001b[1;32m      5\u001b[0m                  batch_size\u001b[38;5;241m=\u001b[39m\u001b[38;5;241m32\u001b[39m, \n\u001b[1;32m      6\u001b[0m                  validation_data \u001b[38;5;241m=\u001b[39m (valX, valY) )\n",
      "File \u001b[0;32m~/anaconda3/envs/tf/lib/python3.11/site-packages/keras/utils/traceback_utils.py:70\u001b[0m, in \u001b[0;36mfilter_traceback.<locals>.error_handler\u001b[0;34m(*args, **kwargs)\u001b[0m\n\u001b[1;32m     67\u001b[0m     filtered_tb \u001b[38;5;241m=\u001b[39m _process_traceback_frames(e\u001b[38;5;241m.\u001b[39m__traceback__)\n\u001b[1;32m     68\u001b[0m     \u001b[38;5;66;03m# To get the full stack trace, call:\u001b[39;00m\n\u001b[1;32m     69\u001b[0m     \u001b[38;5;66;03m# `tf.debugging.disable_traceback_filtering()`\u001b[39;00m\n\u001b[0;32m---> 70\u001b[0m     \u001b[38;5;28;01mraise\u001b[39;00m e\u001b[38;5;241m.\u001b[39mwith_traceback(filtered_tb) \u001b[38;5;28;01mfrom\u001b[39;00m \u001b[38;5;28;01mNone\u001b[39;00m\n\u001b[1;32m     71\u001b[0m \u001b[38;5;28;01mfinally\u001b[39;00m:\n\u001b[1;32m     72\u001b[0m     \u001b[38;5;28;01mdel\u001b[39;00m filtered_tb\n",
      "File \u001b[0;32m/var/folders/q2/3629kqd10199c_1f07d16_6c0000gn/T/__autograph_generated_filecpmof87v.py:15\u001b[0m, in \u001b[0;36mouter_factory.<locals>.inner_factory.<locals>.tf__train_function\u001b[0;34m(iterator)\u001b[0m\n\u001b[1;32m     13\u001b[0m \u001b[38;5;28;01mtry\u001b[39;00m:\n\u001b[1;32m     14\u001b[0m     do_return \u001b[38;5;241m=\u001b[39m \u001b[38;5;28;01mTrue\u001b[39;00m\n\u001b[0;32m---> 15\u001b[0m     retval_ \u001b[38;5;241m=\u001b[39m ag__\u001b[38;5;241m.\u001b[39mconverted_call(ag__\u001b[38;5;241m.\u001b[39mld(step_function), (ag__\u001b[38;5;241m.\u001b[39mld(\u001b[38;5;28mself\u001b[39m), ag__\u001b[38;5;241m.\u001b[39mld(iterator)), \u001b[38;5;28;01mNone\u001b[39;00m, fscope)\n\u001b[1;32m     16\u001b[0m \u001b[38;5;28;01mexcept\u001b[39;00m:\n\u001b[1;32m     17\u001b[0m     do_return \u001b[38;5;241m=\u001b[39m \u001b[38;5;28;01mFalse\u001b[39;00m\n",
      "\u001b[0;31mValueError\u001b[0m: in user code:\n\n    File \"/Users/stephenthorpe/anaconda3/envs/tf/lib/python3.11/site-packages/keras/engine/training.py\", line 1284, in train_function  *\n        return step_function(self, iterator)\n    File \"/Users/stephenthorpe/anaconda3/envs/tf/lib/python3.11/site-packages/keras/engine/training.py\", line 1268, in step_function  **\n        outputs = model.distribute_strategy.run(run_step, args=(data,))\n    File \"/Users/stephenthorpe/anaconda3/envs/tf/lib/python3.11/site-packages/keras/engine/training.py\", line 1249, in run_step  **\n        outputs = model.train_step(data)\n    File \"/Users/stephenthorpe/anaconda3/envs/tf/lib/python3.11/site-packages/keras/engine/training.py\", line 1050, in train_step\n        y_pred = self(x, training=True)\n    File \"/Users/stephenthorpe/anaconda3/envs/tf/lib/python3.11/site-packages/keras/utils/traceback_utils.py\", line 70, in error_handler\n        raise e.with_traceback(filtered_tb) from None\n    File \"/Users/stephenthorpe/anaconda3/envs/tf/lib/python3.11/site-packages/keras/engine/input_spec.py\", line 298, in assert_input_compatibility\n        raise ValueError(\n\n    ValueError: Input 0 of layer \"sequential_16\" is incompatible with the layer: expected shape=(None, 12, 1), found shape=(None, 1, 12)\n"
     ]
    }
   ],
   "source": [
    "model.compile(loss='mse', metrics=[\"mae\"])\n",
    "\n",
    "history = model.fit(trainX, trainY, \n",
    "                 epochs=100, \n",
    "                 batch_size=32, \n",
    "                 validation_data = (valX, valY) )"
   ]
  },
  {
   "cell_type": "code",
   "execution_count": 178,
   "id": "85567919-9549-4df8-b120-9ffdf9797a08",
   "metadata": {},
   "outputs": [
    {
     "ename": "NameError",
     "evalue": "name 'lstm_numunits' is not defined",
     "output_type": "error",
     "traceback": [
      "\u001b[0;31m---------------------------------------------------------------------------\u001b[0m",
      "\u001b[0;31mNameError\u001b[0m                                 Traceback (most recent call last)",
      "Cell \u001b[0;32mIn[178], line 2\u001b[0m\n\u001b[1;32m      1\u001b[0m model_lstm \u001b[38;5;241m=\u001b[39m Sequential()\n\u001b[0;32m----> 2\u001b[0m model_lstm\u001b[38;5;241m.\u001b[39madd(LSTM(lstm_numunits, input_shape\u001b[38;5;241m=\u001b[39m(\u001b[38;5;241m1\u001b[39m, history_length)))\n\u001b[1;32m      3\u001b[0m model_lstm\u001b[38;5;241m.\u001b[39madd(Dense(forecast_length))\n\u001b[1;32m      5\u001b[0m model_lstm\u001b[38;5;241m.\u001b[39mcompile(loss\u001b[38;5;241m=\u001b[39m\u001b[38;5;124m'\u001b[39m\u001b[38;5;124mmse\u001b[39m\u001b[38;5;124m'\u001b[39m, metrics\u001b[38;5;241m=\u001b[39m[\u001b[38;5;124m\"\u001b[39m\u001b[38;5;124mmae\u001b[39m\u001b[38;5;124m\"\u001b[39m], optimizer\u001b[38;5;241m=\u001b[39m\u001b[38;5;124m'\u001b[39m\u001b[38;5;124madam\u001b[39m\u001b[38;5;124m'\u001b[39m)\n",
      "\u001b[0;31mNameError\u001b[0m: name 'lstm_numunits' is not defined"
     ]
    }
   ],
   "source": [
    "model_lstm = Sequential()\n",
    "model_lstm.add(LSTM(lstm_numunits, input_shape=(1, history_length)))\n",
    "model_lstm.add(Dense(forecast_length))\n",
    "\n",
    "model_lstm.compile(loss='mse', metrics=[\"mae\"], optimizer='adam')\n",
    "\n",
    "history_lstm = model_lstm.fit(trainX, trainY, \n",
    "                         epochs=epochs, \n",
    "                         batch_size=batch_size, \n",
    "                         validation_data = (valX, valY),\n",
    "                         verbose=0)\n",
    "\n",
    "model_lstm.summary()"
   ]
  },
  {
   "cell_type": "code",
   "execution_count": null,
   "id": "269aa86c-6fcd-4222-a37d-cc4f8608ea20",
   "metadata": {},
   "outputs": [],
   "source": []
  },
  {
   "cell_type": "code",
   "execution_count": null,
   "id": "4a745c7e-c725-4c38-82f0-971d52941fc8",
   "metadata": {},
   "outputs": [],
   "source": []
  },
  {
   "cell_type": "code",
   "execution_count": null,
   "id": "0b8f7e47-d064-44ca-b396-fba44a0b477f",
   "metadata": {},
   "outputs": [],
   "source": []
  },
  {
   "cell_type": "code",
   "execution_count": null,
   "id": "28af46f5-9066-40d9-b8b5-80df212a9b09",
   "metadata": {},
   "outputs": [],
   "source": []
  },
  {
   "cell_type": "code",
   "execution_count": null,
   "id": "8bc851c2-70f7-42cf-a824-0192d7fb3a34",
   "metadata": {},
   "outputs": [],
   "source": []
  }
 ],
 "metadata": {
  "kernelspec": {
   "display_name": "tf Python3.11.8",
   "language": "python",
   "name": "tf"
  },
  "language_info": {
   "codemirror_mode": {
    "name": "ipython",
    "version": 3
   },
   "file_extension": ".py",
   "mimetype": "text/x-python",
   "name": "python",
   "nbconvert_exporter": "python",
   "pygments_lexer": "ipython3",
   "version": "3.11.5"
  }
 },
 "nbformat": 4,
 "nbformat_minor": 5
}
